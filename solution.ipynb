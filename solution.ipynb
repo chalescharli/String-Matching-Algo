{
 "cells": [
  {
   "cell_type": "code",
   "execution_count": 1,
   "metadata": {},
   "outputs": [],
   "source": [
    "from fuzzywuzzy import fuzz\n",
    "from fuzzywuzzy import process\n"
   ]
  },
  {
   "cell_type": "code",
   "execution_count": 2,
   "metadata": {},
   "outputs": [],
   "source": [
    "database_names = [\n",
    "    \"ford_aspire\", \"ford_ecosport\", \"ford_endeavour\", \"ford_figo\",\n",
    "    \"honda_amaze\", \"honda_city\", \"honda_wr_v\", \"hyundai_aura\",\n",
    "    \"hyundai_grand_i10\", \"hyundai_i10\", \"jeep_compass\", \"jeep_meridian\",\n",
    "    \"kia_carens\", \"kia_seltos\", \"kia_sonet\", \"land_rover_defender\",\n",
    "    \"mahindra_scorpio\", \"mahindra_thar\", \"mahindra_xuv300\", \"mahindra_xuv400\",\n",
    "    \"mahindra_xuv700\", \"maruti_celerio\", \"maruti_suzuki_brezza\",\n",
    "    \"maruti_suzuki_s_presso\", \"maruti_suzuki_swift\", \"maruti_suzuki_wagonr\",\n",
    "    \"maruti_suzuki_xl6\", \"mg_astor\", \"mg_gloster\", \"mg_hector\", \"mg_zs_ev\",\n",
    "    \"renault_kiger\", \"renault_triber\", \"skoda_kushaq\", \"skoda_slavia\",\n",
    "    \"tata_harrier\", \"tata_punch\", \"tata_tiago\", \"toyota_camry\",\n",
    "    \"toyota_fortuner\", \"toyota_fortuner_legender\", \"toyota_glanza\",\n",
    "    \"toyota_innova_crysta\"\n",
    "]"
   ]
  },
  {
   "cell_type": "code",
   "execution_count": 3,
   "metadata": {},
   "outputs": [],
   "source": [
    "def normalize_string(s):\n",
    "    \"\"\"Normalize string by converting to lowercase and removing non-alphanumeric characters.\"\"\"\n",
    "    return ''.join(e for e in s.lower() if e.isalnum())\n"
   ]
  },
  {
   "cell_type": "code",
   "execution_count": 4,
   "metadata": {},
   "outputs": [],
   "source": [
    "def match_model_name(user_input, database_names):\n",
    "    \"\"\"Match user input to the best database name using fuzzy matching.\"\"\"\n",
    "    normalized_input = normalize_string(user_input)\n",
    "    best_match, best_score = process.extractOne(normalized_input, database_names, scorer=fuzz.partial_ratio)\n",
    "    return best_match, best_score"
   ]
  },
  {
   "cell_type": "code",
   "execution_count": 5,
   "metadata": {},
   "outputs": [],
   "source": [
    "user_inputs = [\n",
    "    \"FORD INDIA PVT LTD-FIGOASPIRE 1.2 PETROL TREND+MT\",\n",
    "    \"FORD INDIA PVT LTD-FORD FIGO ASPIRE 1.5 TDCI DIES\",\n",
    "    \"FORD INDIA PVT LTD-FIGOASPIRE 1.5 PETROL TITNMAT\",\n",
    "    \"FORD INDIA PVT LTD-FIGO 1.5 D AMBIENT MT BS IV\",\n",
    "    \"HYUNDAI MOTOR INDIA LTD-AURA 1.2MT KAPPA SX\",\n",
    "    \"HYUNDAI MOTOR INDIA LTD-AURA 1.2MT KAPPA SX(O)\",\n",
    "    \"NA-AURA 1.2MT CRDI S\",\n",
    "    \"HYUNDAI MOTOR INDIA LTD-AURA 1.2AMT KAPPA SX+\"\n",
    "]\n",
    "\n"
   ]
  },
  {
   "cell_type": "code",
   "execution_count": 6,
   "metadata": {},
   "outputs": [
    {
     "name": "stdout",
     "output_type": "stream",
     "text": [
      "Input: FORD INDIA PVT LTD-FIGOASPIRE 1.2 PETROL TREND+MT\n",
      "Best Matched Database Name: ford_aspire - Percentage: 73%\n",
      "\n",
      "Input: FORD INDIA PVT LTD-FORD FIGO ASPIRE 1.5 TDCI DIES\n",
      "Best Matched Database Name: ford_figo - Percentage: 89%\n",
      "\n",
      "Input: FORD INDIA PVT LTD-FIGOASPIRE 1.5 PETROL TITNMAT\n",
      "Best Matched Database Name: ford_aspire - Percentage: 73%\n",
      "\n",
      "Input: FORD INDIA PVT LTD-FIGO 1.5 D AMBIENT MT BS IV\n",
      "Best Matched Database Name: ford_endeavour - Percentage: 57%\n",
      "\n",
      "Input: HYUNDAI MOTOR INDIA LTD-AURA 1.2MT KAPPA SX\n",
      "Best Matched Database Name: hyundai_aura - Percentage: 67%\n",
      "\n",
      "Input: HYUNDAI MOTOR INDIA LTD-AURA 1.2MT KAPPA SX(O)\n",
      "Best Matched Database Name: hyundai_aura - Percentage: 67%\n",
      "\n",
      "Input: NA-AURA 1.2MT CRDI S\n",
      "Best Matched Database Name: maruti_celerio - Percentage: 43%\n",
      "\n",
      "Input: HYUNDAI MOTOR INDIA LTD-AURA 1.2AMT KAPPA SX+\n",
      "Best Matched Database Name: hyundai_aura - Percentage: 67%\n",
      "\n"
     ]
    }
   ],
   "source": [
    "for user_input in user_inputs:\n",
    "    best_match, best_score = match_model_name(user_input, database_names)\n",
    "    print(f\"Input: {user_input}\\nBest Matched Database Name: {best_match} - Percentage: {best_score}%\\n\")\n"
   ]
  }
 ],
 "metadata": {
  "kernelspec": {
   "display_name": "Python 3",
   "language": "python",
   "name": "python3"
  },
  "language_info": {
   "codemirror_mode": {
    "name": "ipython",
    "version": 3
   },
   "file_extension": ".py",
   "mimetype": "text/x-python",
   "name": "python",
   "nbconvert_exporter": "python",
   "pygments_lexer": "ipython3",
   "version": "3.11.5"
  }
 },
 "nbformat": 4,
 "nbformat_minor": 2
}
